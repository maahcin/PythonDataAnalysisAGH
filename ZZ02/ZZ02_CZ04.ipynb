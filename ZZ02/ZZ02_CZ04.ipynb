{
 "cells": [
  {
   "cell_type": "markdown",
   "id": "4ac587d6",
   "metadata": {
    "deletable": false,
    "editable": false,
    "nbgrader": {
     "cell_type": "markdown",
     "checksum": "4d87ed846e09cbf1c8eae4e0f16bea9b",
     "grade": false,
     "grade_id": "cell-fcd2666579131b77",
     "locked": true,
     "schema_version": 3,
     "solution": false,
     "task": false
    },
    "tags": []
   },
   "source": [
    "# Analiza danych w języku Python - ćwiczenia laboratoryjne 2022/2023\n",
    "\n",
    "Ten notatnik zalicza się do grupy zestawów zadań, na podstawie których odbywa się zaliczenie ćwiczeń i podlega zwrotowi do oceny w ustalonym na zajęciach terminie.\n",
    "\n",
    "Uwagi i wytyczne ogólne dotyczące uzupełniania i oceny notatnika:\n",
    "- Podczas wykonywania zadań należy korzystać wyłącznie z pakietów zaimportowanych na początku notatnika oraz z pakietów wchodzących w skład standardowej biblioteki Pythona, które można zaimportować samodzielnie we wskazanej komórce notatnika.\n",
    "- Swoje rozwiązania należy wprowadzać wyłącznie w miejce następujących fragmentów kodu:<br/> `# YOUR CODE HERE`<br/> `raise NotImplementedError()`<br/> \n",
    "a odpowiedzi tekstowe w komórkach oznaczonych hasłem:<br/> \n",
    "`YOUR ANSWER HERE`<br/> \n",
    "Nie należy w żaden sposób modyfikować pozostałych fragmentów kodu oraz innych elementów notatnika, w szczególności dodawać lub usuwać komórek oraz zmieniać nazwy pliku.\n",
    "- Jeżeli zestaw zadań wymaga skorzystania z fragmentów kodu opracowanego w ramach wcześniejszych zestawów zadań należy je umieścić we wskazanej komórce notatnika.\n",
    "- Otrzymywane wyniki i odpowiedzi mają być rezultatem wykonania napisanego kodu, odpowiedzi uzupełniane manualnie nie podlegają ocenie.\n",
    "- Zadanie należy wykonać w taki sposób, aby podczas wykonywania kodu nie zostały wyświetlone żadne ostrzeżenia.\n",
    "- Zawarte w notatniku automatyczne testy mają charakter poglądowy. Dotyczą one wybranych aspektów zadań i mają za zadanie wyłapać podstawowe błędy. Przejście wszystkich testów nie oznacza, że zadanie jest wykonane w całości poprawnie i zostanie ocenione na maksymalną liczbę punktów.\n",
    "- Zadania, które powodują wyświetlenie komunikatu o błędzie przerywającym wykonywanie kodu nie podlegają ocenie.\n",
    "\n",
    "Uwagi i wytyczne ogólne dotyczące wizualizacji wyników:\n",
    "- Wszystkie wykresy powinny być wykonane w jednolitym, przejrzystym i czytelnym stylu, posiadać odpowiednio dobrane proporcje i zakresy wartości osi.\n",
    "- Wykresy oraz ich osie powinny mieć nadane tytuły. Jeżeli w obrębie figury znajduje się więcej niż jeden wykres to figura również powinna mieć nadany tytuł. \n",
    "- Figury powinny mieć ustawione białe tło, tak, aby niezależnie od ustawień notatnika wszystkie elementy wykresów były dobrze widoczne (domyślnie tło jest przeźroczyste co może powodować problemy w notatnikach z ustawionym ciemnym tłem).\n",
    "- Rozmiar poziomy figur nie powinien przekraczać 20 cali.\n",
    "\n",
    "Przed odesłaniem zestawu zadań do oceny proszę uzupełnić komórkę z danymi autorów rozwiązania (`NAME` - nazwa zespołu, `COLLABORATORS` - imiona, nazwiska i numery indeksów członków zespołu) oraz upewnić się, że notatnik działa zgodnie z oczekiwaniami. W tym celu należy skorzystać z opcji **Restart Kernel and Run All Cells...** dostępnej na górnej belce notatnika pod symbolem $\\blacktriangleright\\blacktriangleright$."
   ]
  },
  {
   "cell_type": "code",
   "execution_count": null,
   "id": "a26c11db",
   "metadata": {},
   "outputs": [],
   "source": [
    "NAME = \"IAD32\"\n",
    "COLLABORATORS = \"Marcin Słyś 408197, Michał Surówka 402299, Karol Śliwa 406441\""
   ]
  },
  {
   "cell_type": "markdown",
   "id": "d00cbbeb",
   "metadata": {
    "deletable": false,
    "editable": false,
    "nbgrader": {
     "cell_type": "markdown",
     "checksum": "eddc8826810e4a6f7bf68319da334bd9",
     "grade": false,
     "grade_id": "cell-109006d425e5cf83",
     "locked": true,
     "schema_version": 3,
     "solution": false,
     "task": false
    },
    "tags": []
   },
   "source": [
    "---"
   ]
  },
  {
   "cell_type": "markdown",
   "id": "3dc8b5f1-8b22-4781-876f-27826679533d",
   "metadata": {
    "deletable": false,
    "editable": false,
    "nbgrader": {
     "cell_type": "markdown",
     "checksum": "3cc8e0af44c671714a0db4b7877d5ad4",
     "grade": false,
     "grade_id": "cell-a12f05a1065ccf65",
     "locked": true,
     "schema_version": 3,
     "solution": false,
     "task": false
    },
    "tags": []
   },
   "source": [
    "## Zestaw zadań 2: Elementy statystyki opisowej 2 (Notatnik 4/4)"
   ]
  },
  {
   "cell_type": "code",
   "execution_count": 1,
   "id": "a0f0ba49-958b-41f6-befc-cf77d7364345",
   "metadata": {
    "deletable": false,
    "editable": false,
    "nbgrader": {
     "cell_type": "code",
     "checksum": "9c1f9f1a79efb2ea5cdbaa8129434777",
     "grade": false,
     "grade_id": "cell-50608d099c9a113d",
     "locked": true,
     "schema_version": 3,
     "solution": false,
     "task": false
    },
    "tags": []
   },
   "outputs": [],
   "source": [
    "import numpy as np\n",
    "import pandas as pd\n",
    "import scipy as sp\n",
    "import matplotlib as mpl\n",
    "import matplotlib.pyplot as plt\n",
    "import seaborn as sns\n",
    "import dataframe_image as dfi"
   ]
  },
  {
   "cell_type": "code",
   "execution_count": null,
   "id": "3afcbcf4-e4a1-4435-a432-bbc51129910d",
   "metadata": {
    "tags": []
   },
   "outputs": [],
   "source": [
    "# Miejsce do importu pakietów wchodzących w skład standardowej biblioteki Pythona oraz ustawienie opcji wykorzystywanych pakietów"
   ]
  },
  {
   "cell_type": "markdown",
   "id": "73cb2852-79f3-4f76-9303-a091a9be7623",
   "metadata": {
    "deletable": false,
    "editable": false,
    "nbgrader": {
     "cell_type": "markdown",
     "checksum": "da4a3fda1a35149f6b8e192efb4f338c",
     "grade": false,
     "grade_id": "cell-7e0c91af7d9408af",
     "locked": true,
     "schema_version": 3,
     "solution": false,
     "task": false
    },
    "tags": []
   },
   "source": [
    "### Zadanie 6: Analiza wyników [15 pkt]\n",
    "Scharakteryzuj przebieg kryzysu ekonomicznego 2008-2009 na podstawie wyników analizy przeprowadzonej we wcześniejszych zadaniach zgodnie z poniższymi wytycznymi:\n",
    "- Umieść treść analizy w pojedynczej komórce Markdown. Oprócz tekstu wklej do niej wszystkie wykresy i tablice, do których odnosi się analiza.\n",
    "- W analizie oprzyj się przede wszystkim o tablice i grafiki przygotowane w ramach zadań 2-4. Nie wykorzystuj w analizie elementów przygotowanych w ramach zadania 5. Ma ono wyłącznie charakter demonstracji jak należy pracować, gdy nie są dostępne dane szczegółowe.\n",
    "- Nie powielaj elementów zawierających te same informacje (np. wykorzystanie wielu grafik z zadania 3b),\n",
    "- Zawrzyj w analizie wnioski odnośnie tego jak przebiegał kryzys w ujęciu ogólnoświatowym jak i wnioski odnoszące się do poszczególnych rejonów geograficznych i grup państw o zbliżonym stopniu zamożności (np. różnice i podobieństwa w tym, jak różne grupy państw przechodziły kryzys).\n",
    "- Analizując dane rozważ ich tendencję centralną, skupienie, koncentrację oraz asymetrię,\n",
    "- Nie ograniczaj się wyłącznie do stwierdzeń typu \"średnia wartość parametru GDP growth (annual %) jest najniższa w roku 2009\", tam gdzie to możliwe spróbuj wyciągnąć szersze, dalej idące wnioski o badanym zjawisku.\n",
    "- Wskaż problemy w analizie przeprowadzonej w ramach wykonanych wcześniej zadań i zaproponuj jakie zmiany należy do niej wprowadzić w celu ich rozwiązania.\n",
    "- Jeżeli widzisz taką potrzebę możesz wygenerować dodatkowe tablice i grafiki, w takim przypadku generujący je kod powinien zostać umieszczony w komórce poprzedzającej komórkę z treścią analizy.\n",
    "\n",
    "Wskazówki dotyczące pozyskiwania i wklejania grafik do komórki markdown:\n",
    "- przygotowane wykresy można zapisać do plików za pomocą kodu: `fig.savefig('image.png')`, gdzie `fig` to zmienna zawierająca wykres przygotowany z wykorzystaniem `plt.subplots()`, a `'image.png'` to nazwa pliku, do którego ma zostać zapisana.\n",
    "- przygotowane tablice można zapisać do plików za pomocą kodu: `dfi.export(styled_df, 'df.png')`, gdzie `styled_df` to zmienna zawierająca odpowiednio sformatowaną tablicę, a `'df.png'` to nazwa pliku, do którego ma zostać zapisana.\n",
    "- zapisane do plików grafiki można wklejać do komórki markdown za pomocą następującej formuły: `![](table.png)`, gdzie `table.png` to nazwa pliku, do którego ma zostać wstawiony do komórki.\n",
    "\n",
    "Po wygenerowaniu plików z grafikami nie należy uzuwać z notatników kodu wykorzystanego podczas ich przygotowywania, w tym formuł `fig.savefig()` i `dfi.export()`."
   ]
  },
  {
   "cell_type": "code",
   "execution_count": 17,
   "id": "e789ed69-15b2-4b3e-8ff0-41e7137b6f60",
   "metadata": {
    "tags": []
   },
   "outputs": [
    {
     "name": "stdout",
     "output_type": "stream",
     "text": [
      "C:\\Program Files (x86)\\Google\\Chrome\\Application\\chrome.exe\n"
     ]
    },
    {
     "data": {
      "text/html": [
       "<div>\n",
       "<style scoped>\n",
       "    .dataframe tbody tr th:only-of-type {\n",
       "        vertical-align: middle;\n",
       "    }\n",
       "\n",
       "    .dataframe tbody tr th {\n",
       "        vertical-align: top;\n",
       "    }\n",
       "\n",
       "    .dataframe thead th {\n",
       "        text-align: right;\n",
       "    }\n",
       "</style>\n",
       "<table border=\"1\" class=\"dataframe\">\n",
       "  <thead>\n",
       "    <tr style=\"text-align: right;\">\n",
       "      <th></th>\n",
       "      <th>Country Name</th>\n",
       "      <th>Region Name</th>\n",
       "      <th>Income Group</th>\n",
       "      <th>2006</th>\n",
       "      <th>2007</th>\n",
       "      <th>2008</th>\n",
       "      <th>2009</th>\n",
       "      <th>2010</th>\n",
       "      <th>2011</th>\n",
       "    </tr>\n",
       "    <tr>\n",
       "      <th>Country Code</th>\n",
       "      <th></th>\n",
       "      <th></th>\n",
       "      <th></th>\n",
       "      <th></th>\n",
       "      <th></th>\n",
       "      <th></th>\n",
       "      <th></th>\n",
       "      <th></th>\n",
       "      <th></th>\n",
       "    </tr>\n",
       "  </thead>\n",
       "  <tbody>\n",
       "    <tr>\n",
       "      <th>POL</th>\n",
       "      <td>Poland</td>\n",
       "      <td>Europe</td>\n",
       "      <td>Upper middle</td>\n",
       "      <td>6.13</td>\n",
       "      <td>7.06</td>\n",
       "      <td>4.20</td>\n",
       "      <td>2.83</td>\n",
       "      <td>2.93</td>\n",
       "      <td>5.04</td>\n",
       "    </tr>\n",
       "  </tbody>\n",
       "</table>\n",
       "</div>"
      ],
      "text/plain": [
       "             Country Name Region Name  Income Group  2006  2007  2008  2009   \n",
       "Country Code                                                                  \n",
       "POL                Poland      Europe  Upper middle  6.13  7.06  4.20  2.83  \\\n",
       "\n",
       "              2010  2011  \n",
       "Country Code              \n",
       "POL           2.93  5.04  "
      ]
     },
     "execution_count": 17,
     "metadata": {},
     "output_type": "execute_result"
    }
   ],
   "source": [
    "# Miejsce na dodatkowy kod\n",
    "recession_data_1 = pd.read_csv(\"recession_data_1.csv\", index_col=0)\n",
    "poland_data = recession_data_1[recession_data_1[\"Country Name\"] == \"Poland\"]\n",
    "pd.options.display.float_format = '{:,.2f}'.format\n",
    "dfi.export(poland_data, 'poland_data.png')\n",
    "poland_data"
   ]
  },
  {
   "cell_type": "markdown",
   "id": "79045acb-3c92-4e3e-a418-d020c5375d69",
   "metadata": {
    "deletable": false,
    "nbgrader": {
     "cell_type": "markdown",
     "checksum": "aeaa48637c159e037354ad072c54f33c",
     "grade": true,
     "grade_id": "cell-152c404baa500092",
     "locked": false,
     "points": 15,
     "schema_version": 3,
     "solution": true,
     "task": false
    },
    "tags": []
   },
   "source": [
    "# Analiza światowego kryzysu gospodarczego w latach 2008-2009\n",
    "\n",
    "## O kryzysie\n",
    "\n",
    "Światowy kryzys ekonomiczny w 2008 roku był globalnym załamaniem się rynków finansowych, spowodowanym przez kryzys na rynku nieruchomości w USA, stosowanie złożonych instrumentów finansowych, brak skutecznego nadzoru regulacyjnego oraz globalizację finansów. Wprowadzenie łatwo dostępnych kredytów hipotecznych o niskich wymaganiach kredytowych, zabezpieczenia hipoteczne typu subprime oraz brak regulacji doprowadziły do recesji i miały ogromne konsekwencje na gospodarki światowe.\n",
    "\n",
    "## Wprowadzenie do analizy\n",
    "\n",
    "Wykonaliśmy analizę wzrostu PKB (%) w latach 2006-2011, aby zobrazować ogólny obraz kryzysu finansowego w latach 2008-2009. Przed analizą dokonaliśmy filtrowania danych, aby uwzględniać tylko kraje, dla których posiadamy pełne wartości wskaźników. Dodatkowo, nie uwzględniliśmy Libii z powodu rozpoczęcia tam Arabskiej Wiosny w 2010 roku, gdyż jej wskaźnik PKB wynosił w 2011 roku -50%, co mogłoby zniekształcić obraz badanego zjawiska, gdyż nie jest to związane z kryzysem ekonomicznym.\n",
    "\n",
    "## Zmiana wzrostu PKB dla całego globu\n",
    "\n",
    "\n",
    "![](recession_table_1.png)\n",
    "**Obrazek 1.** Tablica szeregów przedziałowych wzrostu wskaźnika PKB w latach 2006-2011\n",
    "\n",
    "Do 2007 roku, wskaźnik PKB większości państw globu rósł, jedynie mniej niż 10% krajów zanotowało w tych latach recesję. W większości państw wskaźnik ten wzrastał w granicach 0-10%.\n",
    "\n",
    "W roku 2008 jesteśmy już w stanie zauważyć znaczny wzrost odsetka państw w stanie recesji gospodarczej (z 4% w roku 2007 do 18%). Zmniejsza się też odsetek państw notujących wzrost powyżej 10%. Mimo ogólnego pogorszenia się sytuacji gospodarczej na świecie, większość państw wciąż mieści się w przedziale 0-10%.\n",
    "\n",
    "Znaczne skutki kryzysu widzimy w danych dla roku 2009. W stanie recesji znajduje się 49% państw globu. Państwa notujące wzrost też zmniejszyły tempo rozwoju - większość z nich koncentruje się w przedziale 0-5%.\n",
    "\n",
    "Od 2010 roku widać poprawę sytuacji - większość krajów posiada już dodatni wskaźnik PKB, natomiast jest on niższy niż przed rokiem 2008, gdy rozpoczął się kryzys. W roku 2011 sytuacja wygląda podobnie jak 2010 - wciąż większość państw notuje wzrost, jednak jego dynamika jest mniejsza niż z czasów przedkryzysowych.\n",
    "\n",
    "Bardzo dobrze widać to na pierwszym wykresie na umieszczonym poniżej obrazku - chmura punktów wyraźnie przesuwa się w dół w latach 2008-2009, a w następnych powraca do podobnego poziomu, jednak znacznie więcej punktów zlokalizowanych jest poniżej 5 punktów procentowych.\n",
    "![](swarmplots.png)\n",
    "**Obrazek 2.** Wykresy typu swarmplot zmianę wskaźnika PKB na przestrzeni lat\n",
    "\n",
    "## Analiza ze względu na region\n",
    "##\n",
    "\n",
    "![](recession_table_2.png)\n",
    "**Obrazek 3.** Tablica szeregów przedziałowych wzrostu wskaźnika PKB w latach 2006-2011 z podziałem na regiony\n",
    "\n",
    "\n",
    "![](freq_plots.png)\n",
    "**Obrazek 4.** Diagramy częstości zmiany wskaźnika PKB\n",
    "\n",
    "### Azja\n",
    "\n",
    "Zarówno na drugim wykresie z obrazku 1, jak i z tabeli oraz diagramu częstości widać, że rozwój krajów azjatyckich był najbardziej dynamiczny spośród wszystkich państw - przed kryzysem były trzy kraje mające wskaźnik wzrostu ponad 20%. Sam kryzys ekonomiczny również nie był bardzo dotkliwy dla państw azjatyckich. Jedno z nich nawet w najgorszym 2009 miało wskaźnik ponad 20-procentowy. Po kryzysie również kraje z tego regionu najszybciej odzyskały swoje tempo wzrostu. Wynika to prawdopodobnie z tego, że na początku XX-wieku tzw. azjatyckie tygrysy były krajami rozwijającymi się w niesamowitym tempie, głównie poprzez inwestycje w high-tech i to sprawiło, że globalne opóźnienie rozwoju, nie miało aż tak wielkiego wpływu.\n",
    "\n",
    "\n",
    "### Europa \n",
    "\n",
    "Patrząc na powyższe wykresy i tabele, jesteśmy w stanie wywnioskować, że najbardziej poszkodowanym regionem w kryzysie była Europa. Jedynie kilka państw zanotowało wzrost gospodarczy w 2009 roku (jednym z nich jest Polska), reszta zaś była pogrążona w recesji. Po kryzysie część państw nie była w stanie się podnieść i pozostała z ujemnym wskaźnikiem wzrostu PKB. Przyczyną tego, że Europa najmocniej odczuła kryzys prawdopodobnie jest fakt, że gospodarka europejska jest mocno zintegrowana - wiele krajów Unii Europejskiej posiada wspólną walutę - euro, więc osłabienie jej oddziaływało na wiele państw jednocześnie.\n",
    "\n",
    "\n",
    "### Afryka\n",
    "\n",
    "Regionem, który odczuł skutki kryzysu w najmniejszym stopniu jest Afryka - odsetek państw w recesji wynosił odpowiednio 8% w 2008 roku i 16% w roku 2009. Mimo to, przed kryzysem kontynent ten nie rozwijał się tak szybko jak Azja, a pokryzysowa odbudowa gospodarek nie była tak efektowna jak w krajach azjatyckich. Przyczyną tak niewielkiego wpływu kryzysu na afrykańskie gospodarki może być fakt, że są one stosunkowo niezależne od krajów najbogatszych, które mocniej odczuły kryzys - dzięki temu były bardziej odporne na skutki globalne.\n",
    "\n",
    "\n",
    "### Oceania\n",
    "\n",
    "Kraje Oceanii już w 2006 roku nie były w najlepszej sytuacji, sporo z nich znajdowało się w recesji. W latach 2008-2009 sytuacja regionu się delikatnie pogorszyła, ale nie są to zmiany tak drastyczne jak w Europie lub Ameryce. Po kryzysie sytuacja wróciła do stanu sprzed załamania. Na taką sytuację regionu ma głównie wpływ izolacja - większość krajów to pojedyncze wyspy na Pacyfiku, a większość ich dochodów stanowić może turystyka (w przypadku Tuvalu jest jeszcze domena .tv). Załamanie gospodarki światowej oznacza również problemy branży turystycznej - ludzie są mniej skorzy wydawać pieniądze na wyjazdy.\n",
    "\n",
    "### Ameryki\n",
    "\n",
    "Region Ameryk był źródłem kryzysu, gdyż to właśnie załamanie rynku w Stanach Zjednoczonych doprowadziło do ogólnoświatowej recesji. Mimo to region ten przeszedł przez kryzys łagodniej niż Europa - w szczycie kryzysu ponad 30% krajów potrafiło zachować dodatni wskaźnik wzrostu. Wynika to ze sporego zróżnicowania gospodarek - z jednej strony jest bogata północ, z drugiej biedniejsze południe.\n",
    "\n",
    "## Analiza ze względu na stopień zamożności\n",
    "##\n",
    "\n",
    "![](recession_table_3.png)\n",
    "**Obrazek 5.** Tablica szeregów przedziałowych wzrostu wskaźnika PKB w latach 2006-2011 z podziałem na stopień zamożności\n",
    "\n",
    "Patrząc zarówno na wykres trzeci na obrazku 1, diagramy częstości oraz powyższą tabelę, jasno widać, że kryzys miał największy wpływ na państwa wysoko rozwinięte - głównie kraje europejskie oraz północnoamerykańskie. Kraje słabo rozwinięte nie odczuły zbytnio regresji, co widać również w odniesieniu do regionów - najbiedniejszym jest Afryka i to ona przeszła przez kryzys najlżej. Kraje z klasy lower-middle (mało zamożne) to w większości kraje rozwijające się, do nich możemy zaliczyć prawdopodobnie część azjatyckich tygrysów, gdyż widzimy, że przed kryzysem oraz po to właśnie wśród tej grupy występowały najbardziej dynamiczne gospodarki. Kraje średnio zamożne odczuły kryzys mocniej, jednak ich powrót do pozytywnej koniunktury był szybszy niż w przypadku państw najbogatszych.\n",
    "\n",
    "## Analiza w oparciu o statystyczne parametry wskaźnika wzrostu PKB\n",
    "\n",
    "![](decriptive_parameters_1.png)\n",
    "**Obrazek 6.** Statystyczne parametry dla wskaźnika wzrostu PKB w latach 2006-2011\n",
    "\n",
    "Patrząc na tabelę jasno widzimy to, co zaobserwowaliśmy wcześniej - najgorszym rokiem pod praktycznie każdym względem dla światowej gospodarki był rok 2009. Parametry takie jak średnia i mediana wskazują, że dynamika rozwoju po kryzysie była mniejsza niż przed rokiem 2008. Wysoka kurtoza świadczy, że sporo wartości znajduje się blisko średniej (rok 2006), natomiast niska świadczy o płaskości rozkładu. Najbardziej stabilnym parametrem jest odchylenie standardowe - waha się głównie w okolicy 4.50, jedynie w roku 2009 przyjmuje większą wartość.\n",
    "\n",
    "## Analiza kryzysu gospodarczego dla Polski\n",
    "\n",
    "![](poland_data.png)\n",
    "Polska została zaliczona do krajów klasy upper middle, czyli tych, które raczej mocno odczuły skutki kryzysu. Mimo to w latach 2006-2011 ciągle był odnotowywany wzrost gospodarczy. Nastąpiło delikatne spowolnienie, jednak nie było w tym czasie recesji. Widać też, że wzrost wskaźnika w roku 2010 był stosunkowo niewielki w porównaniu do roku 2009. Może się to wiązać z ogromnymi powodziami w roku 2010, które na pewno mocno wpłynęły na koniunkturę kraju, gdyż spore nakłady finansowe były potrzebne na pomoc powodzianom oraz odbudowę zniszczeń które zasiał żywioł. Jeśli chodzi o ogólną odporność na kryzys oraz wzrost w czasie globalnej recesji, to wpływ na to miała akcesja do Unii Europejskiej w 2004 roku, która znacznie przyspieszyła rozwój polskiej gospodarki, niezależna waluta złoty, wybór Polski na organizatora Mistrzostw Europy w piłce nożnej w roku 2012, który spowodował rozwój infrastruktury, co napędzało gospodarkę oraz rozsądna polityka finansowa ówczesnego rządu.\n",
    "\n",
    "\n",
    "## Dodatkowe uwagi\n",
    "\n",
    "Ciekawie byłoby sporządzić dodatkową analizę w oparciu o waluty, aby porównać jak radziły sobie kraje z walutą niezależną, a jak kraje z walutą międzynarodową, taką jak np. dolar, euro czy jen. Na podstawie Europy można wyciągnąć hipotezę, że waluty krajowe były bardziej odporne na kryzys."
   ]
  },
  {
   "cell_type": "code",
   "execution_count": null,
   "id": "7cc6bbd0",
   "metadata": {},
   "outputs": [],
   "source": []
  }
 ],
 "metadata": {
  "kernelspec": {
   "display_name": "Python 3 (ipykernel)",
   "language": "python",
   "name": "python3"
  },
  "language_info": {
   "codemirror_mode": {
    "name": "ipython",
    "version": 3
   },
   "file_extension": ".py",
   "mimetype": "text/x-python",
   "name": "python",
   "nbconvert_exporter": "python",
   "pygments_lexer": "ipython3",
   "version": "3.11.3"
  }
 },
 "nbformat": 4,
 "nbformat_minor": 5
}
