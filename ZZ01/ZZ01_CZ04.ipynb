{
 "cells": [
  {
   "cell_type": "markdown",
   "id": "162d3e35",
   "metadata": {
    "deletable": false,
    "editable": false,
    "nbgrader": {
     "cell_type": "markdown",
     "checksum": "4d87ed846e09cbf1c8eae4e0f16bea9b",
     "grade": false,
     "grade_id": "cell-fcd2666579131b77",
     "locked": true,
     "schema_version": 3,
     "solution": false,
     "task": false
    },
    "tags": []
   },
   "source": [
    "# Analiza danych w języku Python - ćwiczenia laboratoryjne 2022/2023\n",
    "\n",
    "Ten notatnik zalicza się do grupy zestawów zadań, na podstawie których odbywa się zaliczenie ćwiczeń i podlega zwrotowi do oceny w ustalonym na zajęciach terminie.\n",
    "\n",
    "Uwagi i wytyczne ogólne dotyczące uzupełniania i oceny notatnika:\n",
    "- Podczas wykonywania zadań należy korzystać wyłącznie z pakietów zaimportowanych na początku notatnika oraz z pakietów wchodzących w skład standardowej biblioteki Pythona, które można zaimportować samodzielnie we wskazanej komórce notatnika.\n",
    "- Swoje rozwiązania należy wprowadzać wyłącznie w miejce następujących fragmentów kodu:<br/> `# YOUR CODE HERE`<br/> `raise NotImplementedError()`<br/> \n",
    "a odpowiedzi tekstowe w komórkach oznaczonych hasłem:<br/> \n",
    "`YOUR ANSWER HERE`<br/> \n",
    "Nie należy w żaden sposób modyfikować pozostałych fragmentów kodu oraz innych elementów notatnika, w szczególności dodawać lub usuwać komórek oraz zmieniać nazwy pliku.\n",
    "- Jeżeli zestaw zadań wymaga skorzystania z fragmentów kodu opracowanego w ramach wcześniejszych zestawów zadań należy je umieścić we wskazanej komórce notatnika.\n",
    "- Otrzymywane wyniki i odpowiedzi mają być rezultatem wykonania napisanego kodu, odpowiedzi uzupełniane manualnie nie podlegają ocenie.\n",
    "- Zadanie należy wykonać w taki sposób, aby podczas wykonywania kodu nie zostały wyświetlone żadne ostrzeżenia.\n",
    "- Zawarte w notatniku automatyczne testy mają charakter poglądowy. Dotyczą one wybranych aspektów zadań i mają za zadanie wyłapać podstawowe błędy. Przejście wszystkich testów nie oznacza, że zadanie jest wykonane w całości poprawnie i zostanie ocenione na maksymalną liczbę punktów.\n",
    "- Zadania, które powodują wyświetlenie komunikatu o błędzie przerywającym wykonywanie kodu nie podlegają ocenie.\n",
    "\n",
    "Uwagi i wytyczne ogólne dotyczące wizualizacji wyników:\n",
    "- Wszystkie wykresy powinny być wykonane w jednolitym, przejrzystym i czytelnym stylu, posiadać odpowiednio dobrane proporcje i zakresy wartości osi.\n",
    "- Wykresy oraz ich osie powinny mieć nadane tytuły. Jeżeli w obrębie figury znajduje się więcej niż jeden wykres to figura również powinna mieć nadany tytuł. \n",
    "- Figury powinny mieć ustawione białe tło, tak, aby niezależnie od ustawień notatnika wszystkie elementy wykresów były dobrze widoczne (domyślnie tło jest przeźroczyste co może powodować problemy w notatnikach z ustawionym ciemnym tłem).\n",
    "- Rozmiar poziomy figur nie powinien przekraczać 20 cali.\n",
    "\n",
    "Przed odesłaniem zestawu zadań do oceny proszę uzupełnić komórkę z danymi autorów rozwiązania (`NAME` - nazwa zespołu, `COLLABORATORS` - imiona, nazwiska i numery indeksów członków zespołu) oraz upewnić się, że notatnik działa zgodnie z oczekiwaniami. W tym celu należy skorzystać z opcji **Restart Kernel and Run All Cells...** dostępnej na górnej belce notatnika pod symbolem $\\blacktriangleright\\blacktriangleright$."
   ]
  },
  {
   "cell_type": "code",
   "execution_count": null,
   "id": "29902ee8",
   "metadata": {},
   "outputs": [],
   "source": [
    "NAME = \"IAD32\"\n",
    "COLLABORATORS = \"Marcin Słyś 408197, Michał Surówka 402299, Karol Śliwa 406441\""
   ]
  },
  {
   "cell_type": "markdown",
   "id": "7dc7d5ac",
   "metadata": {
    "deletable": false,
    "editable": false,
    "nbgrader": {
     "cell_type": "markdown",
     "checksum": "eddc8826810e4a6f7bf68319da334bd9",
     "grade": false,
     "grade_id": "cell-109006d425e5cf83",
     "locked": true,
     "schema_version": 3,
     "solution": false,
     "task": false
    },
    "tags": []
   },
   "source": [
    "---"
   ]
  },
  {
   "cell_type": "markdown",
   "id": "3dc8b5f1-8b22-4781-876f-27826679533d",
   "metadata": {
    "deletable": false,
    "editable": false,
    "nbgrader": {
     "cell_type": "markdown",
     "checksum": "a068a28968a6b3cff36875b86660282b",
     "grade": false,
     "grade_id": "cell-a12f05a1065ccf65",
     "locked": true,
     "schema_version": 3,
     "solution": false,
     "task": false
    },
    "tags": []
   },
   "source": [
    "## Zestaw zadań 1: Elementy statystyki opisowej 1 (Notatnik 4/4)"
   ]
  },
  {
   "cell_type": "code",
   "execution_count": 1,
   "id": "a0f0ba49-958b-41f6-befc-cf77d7364345",
   "metadata": {
    "deletable": false,
    "editable": false,
    "nbgrader": {
     "cell_type": "code",
     "checksum": "9c1f9f1a79efb2ea5cdbaa8129434777",
     "grade": false,
     "grade_id": "cell-50608d099c9a113d",
     "locked": true,
     "schema_version": 3,
     "solution": false,
     "task": false
    },
    "tags": []
   },
   "outputs": [],
   "source": [
    "import numpy as np\n",
    "import pandas as pd\n",
    "import scipy as sp\n",
    "import matplotlib as mpl\n",
    "import matplotlib.pyplot as plt\n",
    "import seaborn as sns\n",
    "import dataframe_image as dfi"
   ]
  },
  {
   "cell_type": "code",
   "execution_count": null,
   "id": "3afcbcf4-e4a1-4435-a432-bbc51129910d",
   "metadata": {
    "tags": []
   },
   "outputs": [],
   "source": [
    "# Miejsce do importu pakietów wchodzących w skład standardowej biblioteki Pythona oraz ustawienie opcji wykorzystywanych pakietów"
   ]
  },
  {
   "cell_type": "markdown",
   "id": "73cb2852-79f3-4f76-9303-a091a9be7623",
   "metadata": {
    "deletable": false,
    "editable": false,
    "nbgrader": {
     "cell_type": "markdown",
     "checksum": "11262c4b36981de4db8361e5aba36643",
     "grade": false,
     "grade_id": "cell-7e0c91af7d9408af",
     "locked": true,
     "schema_version": 3,
     "solution": false,
     "task": false
    },
    "tags": []
   },
   "source": [
    "### Zadanie 7: Analiza wyników [13 pkt]\n",
    "Scharakteryzuj wulkanizm ziemski na podstawie wyników analizy przeprowadzonej we wcześniejszych zadaniach zgodnie z poniższymi wytycznymi:\n",
    "- Umieść treść analizy w pojedynczej komórce Markdown. Oprócz tekstu wklej do niej wszystkie wykresy i tablice, do których odnosi się analiza.\n",
    "- W analizie oprzyj się przede wszystkim o tablice i grafiki przygotowane w ramach zadań 4-6 (niezbędne minimum).\n",
    "- Nie ograniczaj się wyłącznie do stwierdzeń typu \"zostało zarejestrowanych więcej erupcji o wartości VEI 6 niż 7\", tam gdzie to możliwe spróbuj wyciągnąć szersze, dalej idące wnioski o badanym zjawisku.\n",
    "- Wskaż problemy w analizie przeprowadzonej w ramach wykonanych wcześniej zadań i zaproponuj jakie zmiany należy do niej wprowadzić w celu ich rozwiązania.\n",
    "- Jeżeli widzisz taką potrzebę możesz wygenerować dodatkowe tablice i grafiki, w takim przypadku generujący je kod powinien zostać umieszczony w komórce poprzedzającej komórkę z treścią analizy.\n",
    "\n",
    "Wskazówki dotyczące pozyskiwania i wklejania grafik do komórki markdown:\n",
    "- przygotowane wykresy można zapisać do plików za pomocą kodu: `fig.savefig('image.png')`, gdzie `fig` to zmienna zawierająca wykres przygotowany z wykorzystaniem plt.subplots(), a `'image.png'` to nazwa pliku, do którego ma zostać zapisana.\n",
    "- przygotowane tablice można zapisać do plików za pomocą kodu: `dfi.export(styled_df, 'df.png')`, gdzie `styled_df` to zmienna zawierająca odpowiednio sformatowaną tablicę, a `'df.png'` to nazwa pliku, do którego ma zostać zapisana.\n",
    "- zapisane do plików grafiki można wklejać do komórki markdown za pomocą następującej formuły: `![](table.png)`, gdzie `table.png` to nazwa pliku, do którego ma zostać wstawiony do komórki.\n",
    "\n",
    "Po wygenerowaniu plików z grafikami nie należy uzuwać z notatników kodu wykorzystanego podczas ich przygotowywania, w tym formuł `fig.savefig()` i `dfi.export()`."
   ]
  },
  {
   "cell_type": "code",
   "execution_count": 2,
   "id": "b586a6ae",
   "metadata": {
    "deletable": false,
    "nbgrader": {
     "cell_type": "code",
     "checksum": "cd1defe85c11b81f3bab287cb8e11697",
     "grade": true,
     "grade_id": "cell-06546aa663f7c060",
     "locked": false,
     "points": 0,
     "schema_version": 3,
     "solution": true,
     "task": false
    },
    "tags": []
   },
   "outputs": [],
   "source": [
    "eruptions_data = pd.read_csv(\"eruptions_data.csv\", index_col=0)\n",
    "confirmed = eruptions_data[eruptions_data['Eruption Category'] == 'Confirmed']\n",
    "temp1 = confirmed.groupby(\"VEI\").count()[\"Eruption Category\"]\n",
    "vei_data_2 = pd.DataFrame({\"f\": temp1.values}, index=temp1.index)\n",
    "\n",
    "# Niepotwierdzone erupcje\n",
    "# YOUR CODE HERE\n",
    "uncertain = eruptions_data[eruptions_data['Eruption Category'] == 'Uncertain']\n",
    "temp2 = uncertain.groupby(\"VEI\").count()[\"Eruption Category\"]\n",
    "vei_data_3 = pd.DataFrame({\"f\": temp2.values}, index=temp2.index)\n",
    "temp3 = (temp2/temp1)*100\n",
    "vei_data_4 = pd.DataFrame({\"f\": temp3.values}, index=temp3.index)\n",
    "\n",
    "eruptions_container = {}\n",
    "eruptions_container['Confirmed Eruptions'] = vei_data_2\n",
    "eruptions_container['Uncertain Eruptions'] = vei_data_3\n",
    "eruptions_container['Percent'] = vei_data_4\n",
    "\n",
    "vei_data = pd.concat(eruptions_container, axis=1)\n",
    "\n",
    "pd.options.display.float_format = '{:,.4f}'.format\n",
    "\n",
    "\n",
    "dfi.export(vei_data, 'bonus.png')"
   ]
  },
  {
   "cell_type": "markdown",
   "id": "79045acb-3c92-4e3e-a418-d020c5375d69",
   "metadata": {
    "deletable": false,
    "nbgrader": {
     "cell_type": "markdown",
     "checksum": "a9cd4b09ab5139fd50e3b90a537a35a2",
     "grade": true,
     "grade_id": "cell-152c404baa500092",
     "locked": false,
     "points": 13,
     "schema_version": 3,
     "solution": true,
     "task": false
    },
    "tags": []
   },
   "source": [
    "Zaczynając od początku, pierwszy wniosek jaki możemy wyciągnąć (po zasięgnięciu lekkiej dodatkowej wiedzy) ale \n",
    "bazując na analizie w zadaniu 2 to fakt że, większość (6 z 10) najaktywniejszych wulknanów znajduje się w Azji.\n",
    "![](najaktywniejsze_wulkany_2.png)\n",
    "W dalszej części możemy dojść do kolejnego wniosku, czyli do tego że erupcje o niższych wartościach VEI występują obecnie dużo częściej niż te o wyższych wartościach, żależność można zauważyć na poniższej tabeli. \n",
    "![](2_c.png)\n",
    "W dalszej części w której tworzyliśmy szeregi rozdzielcze, można dojść również do kilku ciekawych wniosków ale i pewnych rzeczy\n",
    "wymagających przemyśleń, mianowicie:\n",
    "- Można zauważyć jasno że najczęstsze (prawie 50%) erupcje to erupcje o VEI równym 2\n",
    "- Należy lekko skorygować wcześniej wysuniętą teorię że im wyższe VEI tym erupcje występują rzadziej - jest to prawda od \n",
    "  wartości 2, lecz bardzo słabe erupcje są mniej popularne (może to wynikać z tego, że mogą być one niezauważone przez odpowiednie przyrządy pomiarowe ze względu na swoją niską moc)\n",
    "- Rozkład wystąpień erupcje przypomina trochę przesunięty rozkład normalny (Gaussa)\n",
    "- Niepotwierdzone ale odnotowane erupcje zazwyczaj mają niskie VEI, a te o wysokim nie występują (zapewne dlatego że są bardzo \n",
    "  duże i ciężko było by ich nie odnotować, przeoczyć lub pomylić)\n",
    "- Ciekawym może wydawać się to, że mniej jest niepotwierdzonych erupcji o VEI 0 i 1, niż tych o VEI 2. Z jednej strony może się\n",
    "  to brać z tego że po prostu erupcje o VEI 2 są znacznie popularniejsze , ale może duży wpływ mieć też to że erupcje o niskim\n",
    "  VEI po prostu nie są rejestrowane (i dlatego nie ma ich ani w potwierdzonych, ani w niepotwierdzonych)\n",
    "![](4_b.png)\n",
    "\n",
    "Analiza Rodzajów metod wykrywania erupcji\n",
    "\n",
    "W tej sekcji również możemy dojść do kilku wniosków:\n",
    "- Najpopiularniejszą metodą wykazywania że erupcja nastąpiła jest \n",
    "  metoda Zgłaszania (Reported) charakteryzująca w głównej mierze \n",
    "  erupcje młode (występujące relatywnie niedawno ~2000 lat).\n",
    "  Wiąże się to zapewne z tym że łacińsko-grecka kultura \n",
    "  piśmiennicza ma właśnie około tyle lat. Jest to też czas rozkwitu\n",
    "  ogólnie piśmiennictwa jako takiego, czyli sprawdzonej metody \n",
    "  na notowanie tego typu zdarzeń. Ciekawą możliwością byłoby \n",
    "  sprawdzenie z jakiego regionu pochodzą erupcje zaobserwowane metodą \n",
    "  Reported np z okresu lat 0-1000 - podejrzewam że większość mogłaby \n",
    "  dotyczyć regionów występowania piśmienniczych cywilizacji których\n",
    "  pismo jesteśmy w stanie łatwo odczytać (region kultury łacińsko-\n",
    "  greckiej, chińskiej, indyjskiej). Niestety nie dostępna jest \n",
    "  informacja z jakiego kraju i kontynentu pochodzą erupcje. Popularność\n",
    "  metody wiąże się na pewno również z globalizacją i erą wielkich odkryć \n",
    "  geograficznych, kiedy zaczeły być notowane również erupcje w \n",
    "  \"nowym\" świecie, wcześniej nienotowane przez brak cywilizacji piśmienniczej w tamtych regionach.\n",
    "- Podobnie z jest z wybuchami niepewnymi - występują tylko w ostatnich 2 tysiącach lat, zapewne dlatego że były odnotowane, ale   nie znalazły potwierdzenia w rzeczywistości. Inne metody bardziej \"twarde\" i naukowe raczej z wysokim prawdopodobieństwem osądzają czy do erupcji doszło czy nie.\n",
    "- Metody Takie jak Korelacyjne czy izotopiczne charakteryzują się podobną popularnością w całym przedziale czasowym, zapewne dlatego że z ich pomocą z wysoką pewnością można dziś potwierdzić wystąpienie erupcji, nie trzeba do tego zapisków historycznych. Lekkie osłabienie popularności metody izotopowej w najstarszych tysiącleciach może brać się również z tego że najpopularniejsza z metod czyli datowanie radiowęglowe węglem C14 ma szybki czas rozpadu więc z czasem może potencjalnie być mniej precyzyjna.\n",
    "- Bardzo ciekawym zjawiskiem jest również mała popularność datowania eksplozji o VEI równym 1 metodami izotopowymi i korelacyjnymi (w porównaniu z eksplozjami o VEI 0 i VEI 2). \n",
    "\n",
    "![](6.png)\n",
    "\n",
    "\n",
    "Jeśli chodzi o ewentualne poprawy analizy - uważam, że wykresy w zasaniu 4 mogą wprowadzać w lekki błąd, ponieważ analizując je można na szybko dojść do błędnego wniosku że niepewność eurpcji jest największa dla VEI 2, co nie jest zbyt prawdziwe, ponieważ uwzględniając ilość wszystkich zanotowanych erupcji i licząc procentowy stosunek niepewnych do pewnych widzimy, że ten spada on ze zwiększającym się VEI, a w zadaniu 4 tego nie widać. Aby to poprawić wykonałem dodatkowy wykres właśnie takiej zależności, na którym jasno widać że im niższe VEI tym większa szansa że erupcja będzie niepewna.\n",
    "![](bonus.png)\n"
   ]
  },
  {
   "cell_type": "code",
   "execution_count": null,
   "id": "21cc50d1",
   "metadata": {},
   "outputs": [],
   "source": []
  }
 ],
 "metadata": {
  "kernelspec": {
   "display_name": "Python 3 (ipykernel)",
   "language": "python",
   "name": "python3"
  },
  "language_info": {
   "codemirror_mode": {
    "name": "ipython",
    "version": 3
   },
   "file_extension": ".py",
   "mimetype": "text/x-python",
   "name": "python",
   "nbconvert_exporter": "python",
   "pygments_lexer": "ipython3",
   "version": "3.9.13"
  }
 },
 "nbformat": 4,
 "nbformat_minor": 5
}
