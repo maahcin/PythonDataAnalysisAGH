{
 "cells": [
  {
   "cell_type": "markdown",
   "id": "9cf5962f",
   "metadata": {
    "deletable": false,
    "editable": false,
    "nbgrader": {
     "cell_type": "markdown",
     "checksum": "4d87ed846e09cbf1c8eae4e0f16bea9b",
     "grade": false,
     "grade_id": "cell-fcd2666579131b77",
     "locked": true,
     "schema_version": 3,
     "solution": false,
     "task": false
    },
    "tags": []
   },
   "source": [
    "# Analiza danych w języku Python - ćwiczenia laboratoryjne 2022/2023\n",
    "\n",
    "Ten notatnik zalicza się do grupy zestawów zadań, na podstawie których odbywa się zaliczenie ćwiczeń i podlega zwrotowi do oceny w ustalonym na zajęciach terminie.\n",
    "\n",
    "Uwagi i wytyczne ogólne dotyczące uzupełniania i oceny notatnika:\n",
    "- Podczas wykonywania zadań należy korzystać wyłącznie z pakietów zaimportowanych na początku notatnika oraz z pakietów wchodzących w skład standardowej biblioteki Pythona, które można zaimportować samodzielnie we wskazanej komórce notatnika.\n",
    "- Swoje rozwiązania należy wprowadzać wyłącznie w miejce następujących fragmentów kodu:<br/> `# YOUR CODE HERE`<br/> `raise NotImplementedError()`<br/> \n",
    "a odpowiedzi tekstowe w komórkach oznaczonych hasłem:<br/> \n",
    "`YOUR ANSWER HERE`<br/> \n",
    "Nie należy w żaden sposób modyfikować pozostałych fragmentów kodu oraz innych elementów notatnika, w szczególności dodawać lub usuwać komórek oraz zmieniać nazwy pliku.\n",
    "- Jeżeli zestaw zadań wymaga skorzystania z fragmentów kodu opracowanego w ramach wcześniejszych zestawów zadań należy je umieścić we wskazanej komórce notatnika.\n",
    "- Otrzymywane wyniki i odpowiedzi mają być rezultatem wykonania napisanego kodu, odpowiedzi uzupełniane manualnie nie podlegają ocenie.\n",
    "- Zadanie należy wykonać w taki sposób, aby podczas wykonywania kodu nie zostały wyświetlone żadne ostrzeżenia.\n",
    "- Zawarte w notatniku automatyczne testy mają charakter poglądowy. Dotyczą one wybranych aspektów zadań i mają za zadanie wyłapać podstawowe błędy. Przejście wszystkich testów nie oznacza, że zadanie jest wykonane w całości poprawnie i zostanie ocenione na maksymalną liczbę punktów.\n",
    "- Zadania, które powodują wyświetlenie komunikatu o błędzie przerywającym wykonywanie kodu nie podlegają ocenie.\n",
    "\n",
    "Uwagi i wytyczne ogólne dotyczące wizualizacji wyników:\n",
    "- Wszystkie wykresy powinny być wykonane w jednolitym, przejrzystym i czytelnym stylu, posiadać odpowiednio dobrane proporcje i zakresy wartości osi.\n",
    "- Wykresy oraz ich osie powinny mieć nadane tytuły. Jeżeli w obrębie figury znajduje się więcej niż jeden wykres to figura również powinna mieć nadany tytuł. \n",
    "- Figury powinny mieć ustawione białe tło, tak, aby niezależnie od ustawień notatnika wszystkie elementy wykresów były dobrze widoczne (domyślnie tło jest przeźroczyste co może powodować problemy w notatnikach z ustawionym ciemnym tłem).\n",
    "- Rozmiar poziomy figur nie powinien przekraczać 20 cali.\n",
    "\n",
    "Przed odesłaniem zestawu zadań do oceny proszę uzupełnić komórkę z danymi autorów rozwiązania (`NAME` - nazwa zespołu, `COLLABORATORS` - imiona, nazwiska i numery indeksów członków zespołu) oraz upewnić się, że notatnik działa zgodnie z oczekiwaniami. W tym celu należy skorzystać z opcji **Restart Kernel and Run All Cells...** dostępnej na górnej belce notatnika pod symbolem $\\blacktriangleright\\blacktriangleright$."
   ]
  },
  {
   "cell_type": "code",
   "execution_count": null,
   "id": "c986566b",
   "metadata": {},
   "outputs": [],
   "source": [
    "NAME = \"IAD32\"\n",
    "COLLABORATORS = \"Marcin Słyś 408197, Michał Surówka 402299, Karol Śliwa 406441\""
   ]
  },
  {
   "cell_type": "markdown",
   "id": "40e8aab2",
   "metadata": {
    "deletable": false,
    "editable": false,
    "nbgrader": {
     "cell_type": "markdown",
     "checksum": "eddc8826810e4a6f7bf68319da334bd9",
     "grade": false,
     "grade_id": "cell-109006d425e5cf83",
     "locked": true,
     "schema_version": 3,
     "solution": false,
     "task": false
    },
    "tags": []
   },
   "source": [
    "---"
   ]
  },
  {
   "cell_type": "markdown",
   "id": "3dc8b5f1-8b22-4781-876f-27826679533d",
   "metadata": {
    "deletable": false,
    "editable": false,
    "nbgrader": {
     "cell_type": "markdown",
     "checksum": "cf47339c6e0a9533830524800e5ebaa3",
     "grade": false,
     "grade_id": "cell-a12f05a1065ccf65",
     "locked": true,
     "schema_version": 3,
     "solution": false,
     "task": false
    },
    "tags": []
   },
   "source": [
    "## Zestaw zadań 3: Elementy statystyki opisowej 3 (Notatnik 4/4)"
   ]
  },
  {
   "cell_type": "code",
   "execution_count": null,
   "id": "a0f0ba49-958b-41f6-befc-cf77d7364345",
   "metadata": {
    "deletable": false,
    "editable": false,
    "nbgrader": {
     "cell_type": "code",
     "checksum": "9c1f9f1a79efb2ea5cdbaa8129434777",
     "grade": false,
     "grade_id": "cell-50608d099c9a113d",
     "locked": true,
     "schema_version": 3,
     "solution": false,
     "task": false
    },
    "tags": []
   },
   "outputs": [],
   "source": [
    "import numpy as np\n",
    "import pandas as pd\n",
    "import scipy as sp\n",
    "import matplotlib as mpl\n",
    "import matplotlib.pyplot as plt\n",
    "import seaborn as sns\n",
    "import dataframe_image as dfi"
   ]
  },
  {
   "cell_type": "code",
   "execution_count": null,
   "id": "3afcbcf4-e4a1-4435-a432-bbc51129910d",
   "metadata": {
    "tags": []
   },
   "outputs": [],
   "source": [
    "# Miejsce do importu pakietów wchodzących w skład standardowej biblioteki Pythona oraz ustawienie opcji wykorzystywanych pakietów"
   ]
  },
  {
   "cell_type": "markdown",
   "id": "73cb2852-79f3-4f76-9303-a091a9be7623",
   "metadata": {
    "deletable": false,
    "editable": false,
    "nbgrader": {
     "cell_type": "markdown",
     "checksum": "c8a3387fecf14ec08412e86c0b053249",
     "grade": false,
     "grade_id": "cell-7e0c91af7d9408af",
     "locked": true,
     "schema_version": 3,
     "solution": false,
     "task": false
    },
    "tags": []
   },
   "source": [
    "### Zadanie 6: Analiza wyników [15 pkt]\n",
    "Scharakteryzuj ruch rowerowy moście Fremont Bridge w Seattle w 2022 roku na podstawie wyników analizy przeprowadzonej we wcześniejszych zadaniach zgodnie z poniższymi wytycznymi:\n",
    "- Umieść treść analizy w pojedynczej komórce Markdown. Oprócz tekstu wklej do niej wszystkie wykresy i tablice, do których odnosi się analiza.\n",
    "- Zawrzyj w analizie wnioski odnośnie zmian w natężeniu ruchu rowerowego w ciągu roku, w poszczególnych dniach tygodnia, w dni robocze i weekendy (tygodniowy charakter ruchu) oraz w poszczególnych godzinach z podziałem na dni robocze i weekendy (dzienny charakter ruchu).\n",
    "- Jeżeli dane wskazują na różnicę w charakterze ruchu pomiędzy wschodnią i zachodnią stroną mostu należy zawrzeć w analizie tę informację oraz wyciągnięte na jej podstawie wnioski.\n",
    "- Dokonaj analizy wpływu pogody na natężenie ruchu rowerowego.\n",
    "- Nie ograniczaj się wyłącznie do stwierdzeń typu \"średnia liczba osób przejeżdżających przez most w poniedziałki była niższa niż średnia liczba osób przejeżdżających przez most we wtorki\", tam gdzie to możliwe spróbuj wyciągnąć szersze, dalej idące wnioski o badanym zjawisku.\n",
    "- Wskaż problemy w analizie przeprowadzonej w ramach wykonanych wcześniej zadań i zaproponuj jakie zmiany należy do niej wprowadzić w celu ich rozwiązania.\n",
    "- Jeżeli widzisz taką potrzebę możesz wygenerować dodatkowe tablice i grafiki, w takim przypadku generujący je kod powinien zostać umieszczony w komórce poprzedzającej komórkę z treścią analizy.\n",
    "\n",
    "Wskazówki dotyczące pozyskiwania i wklejania grafik do komórki markdown:\n",
    "- przygotowane wykresy można zapisać do plików za pomocą kodu: `fig.savefig('image.png')`, gdzie `fig` to zmienna zawierająca wykres przygotowany z wykorzystaniem `plt.subplots()`, a `'image.png'` to nazwa pliku, do którego ma zostać zapisana.\n",
    "- przygotowane tablice można zapisać do plików za pomocą kodu: `dfi.export(styled_df, 'df.png')`, gdzie `styled_df` to zmienna zawierająca odpowiednio sformatowaną tablicę, a `'df.png'` to nazwa pliku, do którego ma zostać zapisana.\n",
    "- zapisane do plików grafiki można wklejać do komórki markdown za pomocą następującej formuły: `![](table.png)`, gdzie `table.png` to nazwa pliku, do którego ma zostać wstawiony do komórki.\n",
    "\n",
    "Po wygenerowaniu plików z grafikami nie należy uzuwać z notatników kodu wykorzystanego podczas ich przygotowywania, w tym formuł `fig.savefig()` i `dfi.export()`."
   ]
  },
  {
   "cell_type": "markdown",
   "id": "3575cc64",
   "metadata": {
    "tags": []
   },
   "source": [
    "# Analiza ruchu rowerowego na moście Fremont Bridge w Seattle\n",
    "\n",
    "## Krótko o moście\n",
    "Most Fremont Bridge to jeden z najbardziej charakterystycznych mostów w Seattle, w stanie Waszyngton w Stanach Zjednoczonych. Został zbudowany w 1917 roku i pierwotnie miał konstrukcję otwieraną, pozwalającą na swobodny przepływ statków. Obecnie most jest stale zamknięty i stanowi ważny element krajobrazu miejskiego. Znajduje się w dzielnicy Fremont i łączy północną i południową część miasta. Most Fremont Bridge ma długość około 165 metrów i rozpiętość 45 metrów.\n",
    "![Obraz mostu](most.jpg)\n",
    "\n",
    "## Analiza dotycząca dat, dni tygodnia, pory dnia\n",
    "### Figura 1\n",
    "![Wykresy z rowerzystami](daty.png)\n",
    "\n",
    "### Figura 2\n",
    "![Wykresy z rowerzystami](pogoda.png)\n",
    "\n",
    "Rozpocznę od analizy wykresu przedstawiającego ilość rowerzystów która podróżowała przez most w przeciągu roku.\n",
    "Pierwszą rzeczą rzucającą się w oczy jest wzrost ilości podróżujących w miesiące ciepłe natomiast spadek w miesiące zimne. Korelacja wydaje się oczywista, ciepła pogoda i sucha droga sprzyjają jeździe rowerem, natomiast niska temperatura i opady już nie. Dobrze, tutaj porównać wykres z wykresami z Figury 2, przedstawiającymi rozkład temperatury, opadów oraz prędkości wiatru w Seattle.\n",
    "\n",
    "Na początku kwietnia, można zauważyć nagły pik do 4000 rowerzystów, spowodowany był on pierwszymi dniami w roku gdzie temperatura przekroczyła 20 stopni Celsjusza, dodatkowo nałożyły się one na dni tygodnia w których ruch rowerowy jest największy tj. od wtorku do czwartku.\n",
    "\n",
    "Pod koniec omawianego wykresu widać dłuższy dołek, a następnie wzrost ruchu rowerów, spadek ten przypada na Święta Bożego Narodzenia.\n",
    "\n",
    "Na wykresie dotyczącym ruchu rowerowego rozłożonego na cały rok, widać gwałtowne wzrosty i spadki, spowodowane to jest rozkładem ruchu rowerowego w poszczególnych dniach tygodnia. Przyjrzyjmy się wykresowi w lewym dolnym rogu figury 1. Widać jak ilość rowerzystów gwałtownie rośnie z poniedziałku na wtorek, natomiast powoli spada aż do soboty. Wnioskowałbym, że stąd te skoki.\n",
    "\n",
    "Moją uwagę przykuł fakt, że największy ruch rowerowy odnotowujemy we wtorek, środę i czwartek. Po dłuższym zastanowieniu i researchu, nie mogłem znaleźć nic konkretnego. Natomiast do głowy wpadł mi pomysł, że może być to spowodowane pracą hybrydową, która spopularyzowała się po pandemii wirusa SARS-CoV-2. Prawdopodobnie ludzie pracujący w tym systemie, pozostają w domach w poniedziałek, piątek, natomiast w pozostałe dni pracujące dojeżdżają do pracy m. in. rowerem.\n",
    "\n",
    "Przechodząc do środkowego dolnego wykresu, który przedstawia ruch rowerowy w dniach poniedziałek - piątek, można zauważyć skoki dla godzin porannych i popołudniowych. Związane jest to z dojazdem i powrotem ludzi z pracy. Zastanawia fakt, że większy ruch odbywa się w godzinach popołudniowych, myślę, że ma to związek z rekreacyjną jazdą na rowerze, do pracoholików dołączają hobbyści ;).\n",
    "\n",
    "Ostatni wykres, tj. w prawym dolnym rogu, przedstawia ruch rowerowy w weekendy. Różni się znacząco od tego który odbywa się w dni pracujące. Wtedy rower wybierany jest jako forma relaksu lub sportu aniżeli transportu. Dlatego wykres przybiera taką formę, ludzie wyjeżdżają w trasy rowerowe płynnie, nie widać tutaj żadnych skoków, wracają tak samo. \n",
    "\n",
    "Na koniec postanowiłem się omówić cechę charakterystyczne dla większości lub wszystkich wykresów z Figury 1.\n",
    "Wpada w o oko przewaga rowerzystów po zachodniej stronie mostu, po szybkim researchu, wybadałem, że rowerzyści po tej stronie jadą w kierunku centrum Seattle, to może być powód dla którego jest ich zdecydowanie więcej, uderza w oczy fakt, że więcej osób dojeżdża do pracy rowerem niż nim wraca, może wybierają inną formę transportu np. Taxi? Wyjątek stanowią weekendy, tutaj ilość przejazdów w stronę centrum i z powrotem jest porównywalna."
   ]
  },
  {
   "cell_type": "markdown",
   "id": "79045acb-3c92-4e3e-a418-d020c5375d69",
   "metadata": {
    "deletable": false,
    "nbgrader": {
     "cell_type": "markdown",
     "checksum": "aeaa48637c159e037354ad072c54f33c",
     "grade": true,
     "grade_id": "cell-152c404baa500092",
     "locked": false,
     "points": 15,
     "schema_version": 3,
     "solution": true,
     "task": false
    },
    "tags": []
   },
   "source": [
    " "
   ]
  },
  {
   "cell_type": "code",
   "execution_count": null,
   "id": "0c7a1a3c",
   "metadata": {},
   "outputs": [],
   "source": []
  }
 ],
 "metadata": {
  "kernelspec": {
   "display_name": "Python 3 (ipykernel)",
   "language": "python",
   "name": "python3"
  },
  "language_info": {
   "codemirror_mode": {
    "name": "ipython",
    "version": 3
   },
   "file_extension": ".py",
   "mimetype": "text/x-python",
   "name": "python",
   "nbconvert_exporter": "python",
   "pygments_lexer": "ipython3",
   "version": "3.9.13"
  }
 },
 "nbformat": 4,
 "nbformat_minor": 5
}
